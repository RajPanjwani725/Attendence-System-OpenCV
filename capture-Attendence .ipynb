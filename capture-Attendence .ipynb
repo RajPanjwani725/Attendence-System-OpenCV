{
 "cells": [
  {
   "cell_type": "markdown",
   "metadata": {},
   "source": [
    "# Register"
   ]
  },
  {
   "cell_type": "code",
   "execution_count": null,
   "metadata": {
    "collapsed": true
   },
   "outputs": [],
   "source": []
  },
  {
   "cell_type": "code",
   "execution_count": 12,
   "metadata": {},
   "outputs": [
    {
     "name": "stdout",
     "output_type": "stream",
     "text": [
      "Enter  Your Name : loko\n",
      "Enter Enrollment Number77\n"
     ]
    },
    {
     "name": "stderr",
     "output_type": "stream",
     "text": [
      "C:\\Users\\RajPanjwani\\Anaconda3\\lib\\site-packages\\ipykernel_launcher.py:94: DeprecationWarning: elementwise comparison failed; this will raise an error in the future.\n"
     ]
    },
    {
     "name": "stdout",
     "output_type": "stream",
     "text": [
      "['Name,Enrollment_Number,19/06/2021,20/06/2021\\n', 'Raj,456,Present,Present\\n', 'ruhi,123,Absent\\n', '\\n', 'RJ,44\\n', '\\n', 'RR,54\\n']\n"
     ]
    }
   ],
   "source": [
    "import numpy as np\n",
    "import cv2\n",
    "import pandas as pd \n",
    "import csv\n",
    "from csv import DictWriter\n",
    "\n",
    "# open the file in the write mode\n",
    "\n",
    "# cascade Classifier is us to detect face or object Features\n",
    "\n",
    "# Knowlidge shelf facial Recognition Part 1\n",
    "# C:\\Users\\RajPanjwani\\Anaconda3\\Lib\\site-packages\\cv2\\data (Contains all harrcascade files for body object recognition)\n",
    "\n",
    "# Copy Path or Download Harracscade classifiel files\n",
    "\n",
    "file_path = 'C:/Users/RajPanjwani/Anaconda3/Lib/site-packages/cv2/data/'\n",
    "\n",
    "face_classifier = cv2.CascadeClassifier(file_path + 'haarcascade_frontalface_default.xml')\n",
    "\n",
    "\n",
    "\n",
    "\n",
    "\n",
    "cap = cv2.VideoCapture(0)\n",
    "\n",
    "croppped_faces = []\n",
    "name = input(\"Enter  Your Name : \")\n",
    "rollNo = int(input(\"Enter Enrollment Number\"))\n",
    "\n",
    "def student_record():\n",
    "    \n",
    "    f=open('attendence.csv','r')\n",
    "    list_lines=f.readlines()\n",
    "    print(list_lines)\n",
    "    if len(list_lines)==0:\n",
    "        print(\"xxxxxxxxxxxxxxx\")\n",
    "        fw=open('attendence.csv','w+')\n",
    "        fw.write(\"Name,Enrollment_Number\")\n",
    "        fw.close()\n",
    "\n",
    "        \n",
    "    else:\n",
    "        fw=open('attendence.csv','a')\n",
    "        fw.write(name+\",\"+str(rollNo)+'\\n')\n",
    "        fw.close()\n",
    "\n",
    "while (cap.isOpened()):\n",
    "    ret, frame = cap.read()\n",
    "\n",
    "    #gray = cv2.cvtColor(frame, cv2.COLOR_BGR2GRAY)\n",
    "    faces = face_classifier.detectMultiScale(frame, 1.3, 5)\n",
    "    #print(\"Face Value\", faces)\n",
    "    if faces is ():\n",
    "        cv2.putText(frame, \"Face Not Found  Press ' Q' to Exit\", (50, 50), cv2.FONT_HERSHEY_SIMPLEX, 0.5, (0, 0, 225), 2)\n",
    "\n",
    "    else:\n",
    "        for (x, y, w, h) in faces:\n",
    "            #print(\"===============\", x, y, w, h)\n",
    "            # here we get the co ordinates of Face\n",
    "            croppped_faces = frame[y-100:y + h+200, x-100:x + w+200]\n",
    "\n",
    "        if croppped_faces != []:\n",
    "\n",
    "\n",
    "            face = cv2.resize(croppped_faces, (400, 400))\n",
    "            #face = cv2.cvtColor(face, cv2.COLOR_BGR2GRAY)\n",
    "            file_value_path = 'E:\\OPEN_CV\\OPENCV-MAIN\\OpenCV-Project\\AttendenceProject\\Face Recognition ML\\Training_images/' + name +\"-\"+ str(rollNo) + '.jpeg'\n",
    "\n",
    "\n",
    "            cv2.putText(frame, \"Press 'C' to capture Image \", (50, 50), cv2.FONT_HERSHEY_SIMPLEX, 0.7, (0, 255, 0), 2)\n",
    "            cv2.rectangle(frame, (x, y), (x + w, y + h), (0, 225, 0), 2)\n",
    "            cv2.imshow(\"face_image\", face)\n",
    "            if cv2.waitKey(1) == ord('c'):\n",
    "                student_record()\n",
    "                cv2.imwrite(file_value_path,face)\n",
    "                \n",
    "                 \n",
    "                break\n",
    "                \n",
    "    cv2.imshow(\"Video\", frame)\n",
    "\n",
    "\n",
    "    if cv2.waitKey(1) == ord('q') :\n",
    "\n",
    "        break\n",
    "\n",
    "        \n",
    "cap.release()\n",
    "cv2.destroyAllWindows()\n"
   ]
  },
  {
   "cell_type": "code",
   "execution_count": 14,
   "metadata": {},
   "outputs": [
    {
     "name": "stdout",
     "output_type": "stream",
     "text": [
      "Today is:  2021-06-20\n",
      "Yesterday was:  2021-06-19\n",
      "19/06/2021\n"
     ]
    }
   ],
   "source": [
    "from datetime import date\n",
    "from datetime import timedelta\n",
    "  \n",
    "# Get today's date\n",
    "today = date.today()\n",
    "print(\"Today is: \", today)\n",
    "  \n",
    "# Yesterday date\n",
    "yesterday = today - timedelta(days = 1)\n",
    "print(\"Yesterday was: \", yesterday)\n",
    "yesterday=yesterday.strftime('%d/%m/%Y')\n",
    "print(yesterday)"
   ]
  },
  {
   "cell_type": "markdown",
   "metadata": {},
   "source": [
    "# Attendence\n"
   ]
  },
  {
   "cell_type": "code",
   "execution_count": null,
   "metadata": {
    "collapsed": true
   },
   "outputs": [],
   "source": []
  },
  {
   "cell_type": "code",
   "execution_count": 6,
   "metadata": {
    "scrolled": true
   },
   "outputs": [
    {
     "name": "stdout",
     "output_type": "stream",
     "text": [
      "os.path.splitext(cl)[0] ('Raj-456', '.jpeg')\n",
      "os.path.splitext(cl)[0] ('ruhi-123', '.jpeg')\n",
      "['Raj-456', 'ruhi-123']\n",
      "Enter Your NameRaj\n",
      "Enter Roll Nmber456\n",
      "d1 = 20/06/2021\n",
      "['Name,Enrollment_Number,19/06/2021,20/06/2021\\n', 'Raj,456,Present,Present\\n', 'ruhi,123,Absent,Present\\n', 'RJ,44,Present\\n', 'loko,77,Absent\\n']\n",
      "Attendence Already Marked\n"
     ]
    }
   ],
   "source": [
    "import cv2\n",
    "import numpy as np\n",
    "import face_recognition\n",
    "import os\n",
    "from datetime import date,timedelta\n",
    "import pandas as pd\n",
    "import csv\n",
    "\n",
    "\n",
    "# from PIL import ImageGrab\n",
    "\n",
    "path = 'Training_images'\n",
    "images = []\n",
    "classNames = []\n",
    "myList = os.listdir(path)\n",
    "#print(myList)\n",
    "for cl in myList:\n",
    "    curImg = cv2.imread(f'{path}/{cl}')\n",
    "    images.append(curImg)\n",
    "    print(\"os.path.splitext(cl)[0]\",os.path.splitext(cl))\n",
    "    classNames.append(os.path.splitext(cl)[0])\n",
    "print(classNames)\n",
    "\n",
    "\n",
    "def findEncodings(images):\n",
    "    encodeList = []\n",
    "\n",
    "    for img in images:\n",
    "        img = cv2.cvtColor(img, cv2.COLOR_BGR2RGB)\n",
    "        encode = face_recognition.face_encodings(img)[0]\n",
    "        encodeList.append(encode)\n",
    "    return encodeList\n",
    "\n",
    "\n",
    "encodeListKnown = findEncodings(images)\n",
    "#print(\"Encode List \",encodeListKnown)\n",
    "#print('Encoding Complete')\n",
    "\n",
    "cap = cv2.VideoCapture(0)\n",
    "count=0\n",
    "break_val=''\n",
    "enter_Name=input(\"Enter Your Name\")\n",
    "enroll=int(input(\"Enter Roll Nmber\"))\n",
    "\n",
    "\n",
    "\n",
    "\n",
    "def markAttendance():\n",
    "    today = date.today()\n",
    "    \n",
    "\n",
    "    # dd/mm/YY\n",
    "    d1 = str(today.strftime(\"%d/%m/%Y\"))\n",
    "    print(\"d1 =\", d1)\n",
    "    f=open('attendence.csv','r')\n",
    "    \n",
    "    list_data=f.readlines()\n",
    "    print(list_data)\n",
    "    \n",
    "    \n",
    "    if d1 not in list_data[0]:\n",
    "        \n",
    "        #====Abesnt=========\n",
    "        \n",
    "        absent_column_list=list_data[0].split(\",\")\n",
    "        count_attendence_dates=len(absent_column_list)-2\n",
    "        #print(count_attendence_dates)\n",
    "        \n",
    "        for i in range(1,len(list_data)):\n",
    "            split_data=list_data[i].split('\\n')\n",
    "            print(\"split_data\",split_data)\n",
    "            present_count=split_data[0].count('Present')\n",
    "            print(\"present_count\",present_count)\n",
    "            if present_count!=count_attendence_dates:\n",
    "                print(\"list_data--i\",list_data[i])\n",
    "                \n",
    "                attendence_absent=split_data[0]+\",Absent\"+\"\\n\"\n",
    "                #print(attendence)\n",
    "                list_data[i]=attendence_absent\n",
    "            \n",
    "        \n",
    "        #-----------Present----------\n",
    "     \n",
    "        \n",
    "        splitlist=list_data[0].split('\\n')\n",
    "        #print(\"=====\",splitlist)\n",
    "        date_column=splitlist[0]+\",\"+d1+\"\\n\"\n",
    "        #print(date_column)\n",
    "        list_data[0]=date_column\n",
    "        #print(\"...................\",list_data)\n",
    "        for i in range(0,len(list_data)):\n",
    "            if str(enroll) in list_data[i]:\n",
    "                splitlist=list_data[i].split('\\n')\n",
    "                #print(\"=====\",splitlist)\n",
    "                #print(\"***********\",splitlist)\n",
    "                attendence=splitlist[0]+\",Present\"+\"\\n\"\n",
    "                #print(attendence)\n",
    "                list_data[i]=attendence\n",
    "            else:\n",
    "                pass\n",
    "\n",
    "        #print(\"...................\",list_data)\n",
    "        a_file = open(\"attendence.csv\", \"w+\")\n",
    "        a_file.writelines(list_data)\n",
    "        a_file.close()\n",
    "    else:\n",
    "        #print(\"...................\",list_data)\n",
    "        for i in range(0,len(list_data)):\n",
    "            if str(enroll) in list_data[i]:\n",
    "                splitlist=list_data[i].split('\\n')\n",
    "                #print(\"=====\",splitlist)\n",
    "                #print(\"***********\",splitlist\n",
    "                if len(list_data[0].split(\",\"))==len(list_data[i].split(\",\")):\n",
    "                    print(\"Attendence Already Marked\")\n",
    "                else:\n",
    "                    attendence=splitlist[0]+\",Present\"+\"\\n\"\n",
    "                    #print(attendence)\n",
    "                    list_data[i]=attendence\n",
    "            else:\n",
    "                pass\n",
    "\n",
    "        #print(\"...................\",list_data)\n",
    "        a_file = open(\"attendence.csv\", \"w+\")\n",
    "        a_file.writelines(list_data)\n",
    "        a_file.close()\n",
    "        \n",
    "\n",
    "\n",
    "    \n",
    "    \n",
    "while (cap.isOpened()):\n",
    "    success, img = cap.read()\n",
    "# img = captureScreen()\n",
    "    imgS = cv2.resize(img, (0, 0), None, 0.25, 0.25)\n",
    "    imgS = cv2.cvtColor(imgS, cv2.COLOR_BGR2RGB)\n",
    "\n",
    "    facesCurFrame = face_recognition.face_locations(imgS)\n",
    "    encodesCurFrame = face_recognition.face_encodings(imgS, facesCurFrame)\n",
    "\n",
    "    for encodeFace, faceLoc in zip(encodesCurFrame, facesCurFrame):\n",
    "        matches = face_recognition.compare_faces(encodeListKnown, encodeFace)\n",
    "        faceDis = face_recognition.face_distance(encodeListKnown, encodeFace)\n",
    "# print(faceDis)\n",
    "        matchIndex = np.argmin(faceDis)\n",
    "        #print(matchIndex)\n",
    "\n",
    "\n",
    "        if matches[matchIndex]:\n",
    "            name = classNames[matchIndex].upper()\n",
    "            #print(name)\n",
    "            data=name.split('-')\n",
    "            \n",
    "            # matchIndex --> index at which your image is\n",
    "            # and enter_Name.upper() in name and enroll in name\n",
    "            if enroll == int(data[1]) and enter_Name.upper()==data[0]:\n",
    "                count += 1\n",
    "                y1, x2, y2, x1 = faceLoc\n",
    "                y1, x2, y2, x1 = y1 * 4, x2 * 4, y2 * 4, x1 * 4\n",
    "                cv2.rectangle(img, (x1, y1), (x2, y2), (0, 255, 0), 2)\n",
    "                #cv2.rectangle(img, (x1, y2 - 35), (x2, y2), (0, 255, 0), cv2.FILLED)\n",
    "                if count<5:\n",
    "                    cv2.putText(img, \"Count :\"+str(count), (50, 150), cv2.FONT_HERSHEY_SIMPLEX, 1, (0,0 ,225), 2)\n",
    "                    cv2.putText(img, name, (50,50), cv2.FONT_HERSHEY_COMPLEX, 1, (225, 225, 225), 2)\n",
    "\n",
    "\n",
    "\n",
    "                if count>=5:\n",
    "                    cv2.putText(img, \"Attendence Marked Press ' Q  'to Exit \", (50,50), cv2.FONT_HERSHEY_COMPLEX, 0.7, (0, 0,225), 2)\n",
    "                    if count==5:\n",
    "                        markAttendance()\n",
    "\n",
    "            elif enroll != int(data[1]) and enter_Name.upper()!=data[0]:\n",
    "                print(\"Image and Entered Data Doesnot Match\")\n",
    "                break_val = 'quit'\n",
    "            else:\n",
    "                break_val='quit'\n",
    "                cv2.waitKey(1)\n",
    "                print(\"Entered Name or Enrollment Number is Wrong \")\n",
    "                break\n",
    "\n",
    "    cv2.imshow('Webcam', img)\n",
    "    if cv2.waitKey(1)==ord('q') or break_val==\"quit\":\n",
    "        break\n",
    "\n",
    "cap.release()\n",
    "cv2.destroyAllWindows()"
   ]
  },
  {
   "cell_type": "code",
   "execution_count": 9,
   "metadata": {},
   "outputs": [
    {
     "name": "stdout",
     "output_type": "stream",
     "text": [
      "['ruhi,123', '']\n"
     ]
    }
   ],
   "source": [
    "x='ruhi,123\\n'\n",
    "print(x.split('\\n'))"
   ]
  },
  {
   "cell_type": "code",
   "execution_count": 10,
   "metadata": {},
   "outputs": [
    {
     "data": {
      "text/plain": [
       "['Name,Enrollment_Number,19/06/2021,20/06/2021\\n',\n",
       " 'Raj,456,Present,Present\\n',\n",
       " 'ruhi,123,Absent\\n',\n",
       " '\\n',\n",
       " 'RJ,44\\n',\n",
       " '\\n',\n",
       " 'RR,54\\n']"
      ]
     },
     "execution_count": 10,
     "metadata": {},
     "output_type": "execute_result"
    }
   ],
   "source": [
    "f=open('attendence.csv','r')\n",
    "f.readlines()\n"
   ]
  },
  {
   "cell_type": "code",
   "execution_count": 11,
   "metadata": {},
   "outputs": [
    {
     "name": "stdout",
     "output_type": "stream",
     "text": [
      "[]\n"
     ]
    }
   ],
   "source": [
    "print(f.readlines())"
   ]
  },
  {
   "cell_type": "code",
   "execution_count": null,
   "metadata": {
    "collapsed": true
   },
   "outputs": [],
   "source": []
  }
 ],
 "metadata": {
  "kernelspec": {
   "display_name": "Python 3",
   "language": "python",
   "name": "python3"
  },
  "language_info": {
   "codemirror_mode": {
    "name": "ipython",
    "version": 3
   },
   "file_extension": ".py",
   "mimetype": "text/x-python",
   "name": "python",
   "nbconvert_exporter": "python",
   "pygments_lexer": "ipython3",
   "version": "3.6.3"
  }
 },
 "nbformat": 4,
 "nbformat_minor": 2
}
